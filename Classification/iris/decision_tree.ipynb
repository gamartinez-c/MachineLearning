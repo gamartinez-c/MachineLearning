{
 "cells": [
  {
   "cell_type": "code",
   "execution_count": 58,
   "id": "4cf3606c-2478-4ee8-be97-33ceef9303c3",
   "metadata": {},
   "outputs": [],
   "source": [
    "import pandas as pd\n",
    "import numpy as np\n",
    "from itertools import product"
   ]
  },
  {
   "cell_type": "code",
   "execution_count": 57,
   "id": "7755fb43-e93d-4cd3-9ea6-022856368abb",
   "metadata": {},
   "outputs": [],
   "source": [
    "from sklearn.tree import DecisionTreeClassifier\n",
    "from sklearn.model_selection import train_test_split\n",
    "\n",
    "from sklearn.model_selection import KFold\n",
    "from sklearn.model_selection import cross_val_score, cross_val_predict, cross_validate"
   ]
  },
  {
   "cell_type": "code",
   "execution_count": null,
   "id": "97281c27-5641-42b2-880d-7381cce8571a",
   "metadata": {},
   "outputs": [],
   "source": []
  },
  {
   "cell_type": "code",
   "execution_count": 47,
   "id": "69b07744-4f1f-40a4-b9cf-649578119551",
   "metadata": {},
   "outputs": [
    {
     "data": {
      "text/html": [
       "<div>\n",
       "<style scoped>\n",
       "    .dataframe tbody tr th:only-of-type {\n",
       "        vertical-align: middle;\n",
       "    }\n",
       "\n",
       "    .dataframe tbody tr th {\n",
       "        vertical-align: top;\n",
       "    }\n",
       "\n",
       "    .dataframe thead th {\n",
       "        text-align: right;\n",
       "    }\n",
       "</style>\n",
       "<table border=\"1\" class=\"dataframe\">\n",
       "  <thead>\n",
       "    <tr style=\"text-align: right;\">\n",
       "      <th></th>\n",
       "      <th>Sepal.Length</th>\n",
       "      <th>Sepal.Width</th>\n",
       "      <th>Petal.Length</th>\n",
       "      <th>Petal.Width</th>\n",
       "      <th>Species</th>\n",
       "    </tr>\n",
       "  </thead>\n",
       "  <tbody>\n",
       "    <tr>\n",
       "      <th>0</th>\n",
       "      <td>5.1</td>\n",
       "      <td>3.5</td>\n",
       "      <td>1.4</td>\n",
       "      <td>0.2</td>\n",
       "      <td>setosa</td>\n",
       "    </tr>\n",
       "    <tr>\n",
       "      <th>1</th>\n",
       "      <td>4.9</td>\n",
       "      <td>3.0</td>\n",
       "      <td>1.4</td>\n",
       "      <td>0.2</td>\n",
       "      <td>setosa</td>\n",
       "    </tr>\n",
       "    <tr>\n",
       "      <th>2</th>\n",
       "      <td>4.7</td>\n",
       "      <td>3.2</td>\n",
       "      <td>1.3</td>\n",
       "      <td>0.2</td>\n",
       "      <td>setosa</td>\n",
       "    </tr>\n",
       "    <tr>\n",
       "      <th>3</th>\n",
       "      <td>4.6</td>\n",
       "      <td>3.1</td>\n",
       "      <td>1.5</td>\n",
       "      <td>0.2</td>\n",
       "      <td>setosa</td>\n",
       "    </tr>\n",
       "    <tr>\n",
       "      <th>4</th>\n",
       "      <td>5.0</td>\n",
       "      <td>3.6</td>\n",
       "      <td>1.4</td>\n",
       "      <td>0.2</td>\n",
       "      <td>setosa</td>\n",
       "    </tr>\n",
       "  </tbody>\n",
       "</table>\n",
       "</div>"
      ],
      "text/plain": [
       "   Sepal.Length  Sepal.Width  Petal.Length  Petal.Width Species\n",
       "0           5.1          3.5           1.4          0.2  setosa\n",
       "1           4.9          3.0           1.4          0.2  setosa\n",
       "2           4.7          3.2           1.3          0.2  setosa\n",
       "3           4.6          3.1           1.5          0.2  setosa\n",
       "4           5.0          3.6           1.4          0.2  setosa"
      ]
     },
     "execution_count": 47,
     "metadata": {},
     "output_type": "execute_result"
    }
   ],
   "source": [
    "data = pd.read_csv(\"iris.csv\")\n",
    "data.head()"
   ]
  },
  {
   "cell_type": "code",
   "execution_count": 48,
   "id": "5e87e214-6f55-41c7-a4c3-1fe528f7261a",
   "metadata": {},
   "outputs": [],
   "source": [
    "data.rename(columns={'Species':'target'}, inplace=True)\n",
    "\n",
    "label_column = ['target']\n",
    "features_columns = list(set(data.columns) - set(label_column))\n",
    "\n",
    "train, test = train_test_split(data)"
   ]
  },
  {
   "cell_type": "markdown",
   "id": "04c5eec8-cfa0-4d7d-8352-6116c3846513",
   "metadata": {},
   "source": [
    "# Simple Decision Tree"
   ]
  },
  {
   "cell_type": "code",
   "execution_count": 49,
   "id": "cdda96f2-46db-4964-937f-41fcd4954087",
   "metadata": {},
   "outputs": [],
   "source": [
    "tree = DecisionTreeClassifier(criterion=\"entropy\", min_samples_split=20, random_state=99)\n",
    "tree.fit(train[features_columns], train[label_column])\n",
    "\n",
    "test['prediction'] = tree.predict(test[features_columns])"
   ]
  },
  {
   "cell_type": "code",
   "execution_count": 50,
   "id": "5e189588-909f-4c79-8fd2-28886dc8e7ae",
   "metadata": {},
   "outputs": [
    {
     "data": {
      "text/html": [
       "<div>\n",
       "<style scoped>\n",
       "    .dataframe tbody tr th:only-of-type {\n",
       "        vertical-align: middle;\n",
       "    }\n",
       "\n",
       "    .dataframe tbody tr th {\n",
       "        vertical-align: top;\n",
       "    }\n",
       "\n",
       "    .dataframe thead th {\n",
       "        text-align: right;\n",
       "    }\n",
       "</style>\n",
       "<table border=\"1\" class=\"dataframe\">\n",
       "  <thead>\n",
       "    <tr style=\"text-align: right;\">\n",
       "      <th>prediction</th>\n",
       "      <th>setosa</th>\n",
       "      <th>versicolor</th>\n",
       "      <th>virginica</th>\n",
       "    </tr>\n",
       "    <tr>\n",
       "      <th>target</th>\n",
       "      <th></th>\n",
       "      <th></th>\n",
       "      <th></th>\n",
       "    </tr>\n",
       "  </thead>\n",
       "  <tbody>\n",
       "    <tr>\n",
       "      <th>setosa</th>\n",
       "      <td>15</td>\n",
       "      <td>0</td>\n",
       "      <td>0</td>\n",
       "    </tr>\n",
       "    <tr>\n",
       "      <th>versicolor</th>\n",
       "      <td>0</td>\n",
       "      <td>8</td>\n",
       "      <td>0</td>\n",
       "    </tr>\n",
       "    <tr>\n",
       "      <th>virginica</th>\n",
       "      <td>0</td>\n",
       "      <td>2</td>\n",
       "      <td>13</td>\n",
       "    </tr>\n",
       "  </tbody>\n",
       "</table>\n",
       "</div>"
      ],
      "text/plain": [
       "prediction  setosa  versicolor  virginica\n",
       "target                                   \n",
       "setosa          15           0          0\n",
       "versicolor       0           8          0\n",
       "virginica        0           2         13"
      ]
     },
     "execution_count": 50,
     "metadata": {},
     "output_type": "execute_result"
    }
   ],
   "source": [
    "pd.crosstab(test['target'], test['prediction'])"
   ]
  },
  {
   "cell_type": "markdown",
   "id": "bcd06e44-bf48-4a38-b56b-18952c66566e",
   "metadata": {},
   "source": [
    "# Use cross validation on Decision Tree to get more acurate results on the model test"
   ]
  },
  {
   "cell_type": "code",
   "execution_count": 61,
   "id": "2fd991f1-c011-4212-9204-f3876af96ebe",
   "metadata": {},
   "outputs": [
    {
     "name": "stdout",
     "output_type": "stream",
     "text": [
      "Min Sample Split: 20, Min Sample Leaf: 10, Average Score: 0.933\n",
      "Min Sample Split: 20, Min Sample Leaf: 5, Average Score: 0.940\n",
      "Min Sample Split: 20, Min Sample Leaf: 2, Average Score: 0.940\n",
      "Min Sample Split: 10, Min Sample Leaf: 10, Average Score: 0.933\n",
      "Min Sample Split: 10, Min Sample Leaf: 5, Average Score: 0.940\n",
      "Min Sample Split: 10, Min Sample Leaf: 2, Average Score: 0.940\n"
     ]
    }
   ],
   "source": [
    "cv = KFold(n_splits=10)\n",
    "possible_min_samples_split = [20,10]\n",
    "possible_min_sample_leaf = [10,5,2]\n",
    "for min_samples_split, min_sample_leaf in product(possible_min_samples_split, possible_min_sample_leaf):\n",
    "    tree = DecisionTreeClassifier(criterion=\"entropy\", min_samples_split=20, min_samples_leaf=min_sample_leaf, random_state=99)\n",
    "    average_score = np.mean(cross_val_score(tree, data[features_columns], data[label_column], cv=cv))\n",
    "    output_string = \"Min Sample Split: %s, Min Sample Leaf: %s, Average Score: %0.3f\"%(min_samples_split, min_sample_leaf, average_score)\n",
    "    print(output_string)\n",
    "    "
   ]
  },
  {
   "cell_type": "code",
   "execution_count": 60,
   "id": "1672051f-1743-4163-993e-f7b587ebdd49",
   "metadata": {},
   "outputs": [
    {
     "data": {
      "text/plain": [
       "[(1, 4), (1, 56), (2, 4), (2, 56)]"
      ]
     },
     "execution_count": 60,
     "metadata": {},
     "output_type": "execute_result"
    }
   ],
   "source": [
    "[*product([1,2], [4,56])]"
   ]
  },
  {
   "cell_type": "markdown",
   "id": "bf263397-f6e8-4bbe-a4d9-b65d74f253c3",
   "metadata": {},
   "source": [
    "## wih a Verry naive analysis we should keep the Min Sample Split: 20, Min Sample Leaf: 5 model, to avoid any possible overfitting it could have by using more "
   ]
  }
 ],
 "metadata": {
  "kernelspec": {
   "display_name": "Python 3 (ipykernel)",
   "language": "python",
   "name": "python3"
  },
  "language_info": {
   "codemirror_mode": {
    "name": "ipython",
    "version": 3
   },
   "file_extension": ".py",
   "mimetype": "text/x-python",
   "name": "python",
   "nbconvert_exporter": "python",
   "pygments_lexer": "ipython3",
   "version": "3.9.7"
  }
 },
 "nbformat": 4,
 "nbformat_minor": 5
}
