{
 "cells": [
  {
   "cell_type": "code",
   "execution_count": 89,
   "id": "4cf3606c-2478-4ee8-be97-33ceef9303c3",
   "metadata": {},
   "outputs": [],
   "source": [
    "import pandas as pd\n",
    "import numpy as np\n",
    "from itertools import product"
   ]
  },
  {
   "cell_type": "code",
   "execution_count": 90,
   "id": "7755fb43-e93d-4cd3-9ea6-022856368abb",
   "metadata": {},
   "outputs": [],
   "source": [
    "from sklearn.tree import DecisionTreeClassifier\n",
    "from sklearn.model_selection import train_test_split\n",
    "\n",
    "from sklearn.model_selection import KFold\n",
    "from sklearn.model_selection import cross_val_score, cross_val_predict, cross_validate\n",
    "from sklearn.tree import export_graphviz\n",
    "\n",
    "from graphviz import Source"
   ]
  },
  {
   "cell_type": "code",
   "execution_count": 91,
   "id": "69b07744-4f1f-40a4-b9cf-649578119551",
   "metadata": {},
   "outputs": [
    {
     "data": {
      "text/html": [
       "<div>\n",
       "<style scoped>\n",
       "    .dataframe tbody tr th:only-of-type {\n",
       "        vertical-align: middle;\n",
       "    }\n",
       "\n",
       "    .dataframe tbody tr th {\n",
       "        vertical-align: top;\n",
       "    }\n",
       "\n",
       "    .dataframe thead th {\n",
       "        text-align: right;\n",
       "    }\n",
       "</style>\n",
       "<table border=\"1\" class=\"dataframe\">\n",
       "  <thead>\n",
       "    <tr style=\"text-align: right;\">\n",
       "      <th></th>\n",
       "      <th>Sepal.Length</th>\n",
       "      <th>Sepal.Width</th>\n",
       "      <th>Petal.Length</th>\n",
       "      <th>Petal.Width</th>\n",
       "      <th>Species</th>\n",
       "    </tr>\n",
       "  </thead>\n",
       "  <tbody>\n",
       "    <tr>\n",
       "      <th>0</th>\n",
       "      <td>5.1</td>\n",
       "      <td>3.5</td>\n",
       "      <td>1.4</td>\n",
       "      <td>0.2</td>\n",
       "      <td>setosa</td>\n",
       "    </tr>\n",
       "    <tr>\n",
       "      <th>1</th>\n",
       "      <td>4.9</td>\n",
       "      <td>3.0</td>\n",
       "      <td>1.4</td>\n",
       "      <td>0.2</td>\n",
       "      <td>setosa</td>\n",
       "    </tr>\n",
       "    <tr>\n",
       "      <th>2</th>\n",
       "      <td>4.7</td>\n",
       "      <td>3.2</td>\n",
       "      <td>1.3</td>\n",
       "      <td>0.2</td>\n",
       "      <td>setosa</td>\n",
       "    </tr>\n",
       "    <tr>\n",
       "      <th>3</th>\n",
       "      <td>4.6</td>\n",
       "      <td>3.1</td>\n",
       "      <td>1.5</td>\n",
       "      <td>0.2</td>\n",
       "      <td>setosa</td>\n",
       "    </tr>\n",
       "    <tr>\n",
       "      <th>4</th>\n",
       "      <td>5.0</td>\n",
       "      <td>3.6</td>\n",
       "      <td>1.4</td>\n",
       "      <td>0.2</td>\n",
       "      <td>setosa</td>\n",
       "    </tr>\n",
       "  </tbody>\n",
       "</table>\n",
       "</div>"
      ],
      "text/plain": [
       "   Sepal.Length  Sepal.Width  Petal.Length  Petal.Width Species\n",
       "0           5.1          3.5           1.4          0.2  setosa\n",
       "1           4.9          3.0           1.4          0.2  setosa\n",
       "2           4.7          3.2           1.3          0.2  setosa\n",
       "3           4.6          3.1           1.5          0.2  setosa\n",
       "4           5.0          3.6           1.4          0.2  setosa"
      ]
     },
     "execution_count": 91,
     "metadata": {},
     "output_type": "execute_result"
    }
   ],
   "source": [
    "data = pd.read_csv(\"iris.csv\")\n",
    "data.head()"
   ]
  },
  {
   "cell_type": "code",
   "execution_count": 92,
   "id": "5e87e214-6f55-41c7-a4c3-1fe528f7261a",
   "metadata": {},
   "outputs": [],
   "source": [
    "data.rename(columns={'Species':'target'}, inplace=True)\n",
    "\n",
    "label_column = ['target']\n",
    "features_columns = list(set(data.columns) - set(label_column))\n",
    "\n",
    "train, test = train_test_split(data)"
   ]
  },
  {
   "cell_type": "markdown",
   "id": "04c5eec8-cfa0-4d7d-8352-6116c3846513",
   "metadata": {},
   "source": [
    "# Simple Decision Tree"
   ]
  },
  {
   "cell_type": "code",
   "execution_count": 99,
   "id": "cdda96f2-46db-4964-937f-41fcd4954087",
   "metadata": {},
   "outputs": [],
   "source": [
    "tree = DecisionTreeClassifier(criterion=\"entropy\", min_samples_split=20, random_state=99)\n",
    "tree.fit(train[features_columns], train[label_column])\n",
    "\n",
    "test['prediction'] = tree.predict(test[features_columns])"
   ]
  },
  {
   "cell_type": "code",
   "execution_count": 94,
   "id": "5e189588-909f-4c79-8fd2-28886dc8e7ae",
   "metadata": {},
   "outputs": [
    {
     "data": {
      "text/html": [
       "<div>\n",
       "<style scoped>\n",
       "    .dataframe tbody tr th:only-of-type {\n",
       "        vertical-align: middle;\n",
       "    }\n",
       "\n",
       "    .dataframe tbody tr th {\n",
       "        vertical-align: top;\n",
       "    }\n",
       "\n",
       "    .dataframe thead th {\n",
       "        text-align: right;\n",
       "    }\n",
       "</style>\n",
       "<table border=\"1\" class=\"dataframe\">\n",
       "  <thead>\n",
       "    <tr style=\"text-align: right;\">\n",
       "      <th>prediction</th>\n",
       "      <th>setosa</th>\n",
       "      <th>versicolor</th>\n",
       "      <th>virginica</th>\n",
       "    </tr>\n",
       "    <tr>\n",
       "      <th>target</th>\n",
       "      <th></th>\n",
       "      <th></th>\n",
       "      <th></th>\n",
       "    </tr>\n",
       "  </thead>\n",
       "  <tbody>\n",
       "    <tr>\n",
       "      <th>setosa</th>\n",
       "      <td>10</td>\n",
       "      <td>0</td>\n",
       "      <td>0</td>\n",
       "    </tr>\n",
       "    <tr>\n",
       "      <th>versicolor</th>\n",
       "      <td>0</td>\n",
       "      <td>12</td>\n",
       "      <td>2</td>\n",
       "    </tr>\n",
       "    <tr>\n",
       "      <th>virginica</th>\n",
       "      <td>0</td>\n",
       "      <td>0</td>\n",
       "      <td>14</td>\n",
       "    </tr>\n",
       "  </tbody>\n",
       "</table>\n",
       "</div>"
      ],
      "text/plain": [
       "prediction  setosa  versicolor  virginica\n",
       "target                                   \n",
       "setosa          10           0          0\n",
       "versicolor       0          12          2\n",
       "virginica        0           0         14"
      ]
     },
     "execution_count": 94,
     "metadata": {},
     "output_type": "execute_result"
    }
   ],
   "source": [
    "pd.crosstab(test['target'], test['prediction'])"
   ]
  },
  {
   "cell_type": "markdown",
   "id": "bcd06e44-bf48-4a38-b56b-18952c66566e",
   "metadata": {},
   "source": [
    "# Use cross validation on Decision Tree to get more acurate results on the model test"
   ]
  },
  {
   "cell_type": "code",
   "execution_count": 101,
   "id": "2fd991f1-c011-4212-9204-f3876af96ebe",
   "metadata": {},
   "outputs": [
    {
     "name": "stdout",
     "output_type": "stream",
     "text": [
      "Min Sample Split: 20, Min Sample Leaf: 10, Average Score: 0.933\n",
      "Min Sample Split: 20, Min Sample Leaf: 5, Average Score: 0.940\n",
      "Min Sample Split: 20, Min Sample Leaf: 2, Average Score: 0.940\n",
      "Min Sample Split: 10, Min Sample Leaf: 10, Average Score: 0.933\n",
      "Min Sample Split: 10, Min Sample Leaf: 5, Average Score: 0.940\n",
      "Min Sample Split: 10, Min Sample Leaf: 2, Average Score: 0.940\n"
     ]
    }
   ],
   "source": [
    "cv = KFold(n_splits=10)\n",
    "possible_min_samples_split = [20,10]\n",
    "possible_min_sample_leaf = [10,5,2]\n",
    "for min_samples_split, min_sample_leaf in product(possible_min_samples_split, possible_min_sample_leaf):\n",
    "    tree = DecisionTreeClassifier(criterion=\"entropy\", min_samples_split=min_samples_split, min_samples_leaf=min_sample_leaf, random_state=99)\n",
    "    average_score = np.mean(cross_val_score(tree, data[features_columns], data[label_column], cv=cv))\n",
    "    output_string = \"Min Sample Split: %s, Min Sample Leaf: %s, Average Score: %0.3f\"%(min_samples_split, min_sample_leaf, average_score)\n",
    "    print(output_string)\n",
    "    "
   ]
  },
  {
   "cell_type": "markdown",
   "id": "bf263397-f6e8-4bbe-a4d9-b65d74f253c3",
   "metadata": {},
   "source": [
    "## Wih a verry naive analysis we should keep the Min Sample Split: 20, Min Sample Leaf: 5 model, to avoid any possible overfitting it could have when having leaves too small to be stadistically significant."
   ]
  },
  {
   "cell_type": "markdown",
   "id": "2e6a27b4-e6ed-46d7-8022-80b0259d1cd5",
   "metadata": {},
   "source": [
    "### We do a last fit with all the data as the model si already selected and we are not doing validation"
   ]
  },
  {
   "cell_type": "code",
   "execution_count": 103,
   "id": "41ba99bf-b0dc-461a-9694-97504ea09741",
   "metadata": {},
   "outputs": [
    {
     "data": {
      "text/plain": [
       "DecisionTreeClassifier(criterion='entropy', min_samples_leaf=5,\n",
       "                       min_samples_split=20, random_state=99)"
      ]
     },
     "execution_count": 103,
     "metadata": {},
     "output_type": "execute_result"
    }
   ],
   "source": [
    "tree = DecisionTreeClassifier(criterion=\"entropy\", min_samples_split=20, min_samples_leaf=5, random_state=99)\n",
    "tree.fit(data[features_columns], data[label_column])"
   ]
  },
  {
   "cell_type": "code",
   "execution_count": 104,
   "id": "07aa9d4d-a203-4c98-8ac4-224ca2c8a788",
   "metadata": {},
   "outputs": [
    {
     "data": {
      "image/svg+xml": [
       "<?xml version=\"1.0\" encoding=\"UTF-8\" standalone=\"no\"?>\n",
       "<!DOCTYPE svg PUBLIC \"-//W3C//DTD SVG 1.1//EN\"\n",
       " \"http://www.w3.org/Graphics/SVG/1.1/DTD/svg11.dtd\">\n",
       "<!-- Generated by graphviz version 2.50.0 (0)\n",
       " -->\n",
       "<!-- Title: Tree Pages: 1 -->\n",
       "<svg width=\"612pt\" height=\"477pt\"\n",
       " viewBox=\"0.00 0.00 612.00 477.00\" xmlns=\"http://www.w3.org/2000/svg\" xmlns:xlink=\"http://www.w3.org/1999/xlink\">\n",
       "<g id=\"graph0\" class=\"graph\" transform=\"scale(1 1) rotate(0) translate(4 473)\">\n",
       "<title>Tree</title>\n",
       "<polygon fill=\"white\" stroke=\"transparent\" points=\"-4,4 -4,-473 608,-473 608,4 -4,4\"/>\n",
       "<!-- 0 -->\n",
       "<g id=\"node1\" class=\"node\">\n",
       "<title>0</title>\n",
       "<polygon fill=\"none\" stroke=\"black\" points=\"339,-469 196,-469 196,-401 339,-401 339,-469\"/>\n",
       "<text text-anchor=\"middle\" x=\"267.5\" y=\"-453.8\" font-family=\"Helvetica,sans-Serif\" font-size=\"14.00\">Petal.Length &lt;= 2.45</text>\n",
       "<text text-anchor=\"middle\" x=\"267.5\" y=\"-438.8\" font-family=\"Helvetica,sans-Serif\" font-size=\"14.00\">entropy = 1.585</text>\n",
       "<text text-anchor=\"middle\" x=\"267.5\" y=\"-423.8\" font-family=\"Helvetica,sans-Serif\" font-size=\"14.00\">samples = 150</text>\n",
       "<text text-anchor=\"middle\" x=\"267.5\" y=\"-408.8\" font-family=\"Helvetica,sans-Serif\" font-size=\"14.00\">value = [50, 50, 50]</text>\n",
       "</g>\n",
       "<!-- 1 -->\n",
       "<g id=\"node2\" class=\"node\">\n",
       "<title>1</title>\n",
       "<polygon fill=\"none\" stroke=\"black\" points=\"254,-357.5 137,-357.5 137,-304.5 254,-304.5 254,-357.5\"/>\n",
       "<text text-anchor=\"middle\" x=\"195.5\" y=\"-342.3\" font-family=\"Helvetica,sans-Serif\" font-size=\"14.00\">entropy = 0.0</text>\n",
       "<text text-anchor=\"middle\" x=\"195.5\" y=\"-327.3\" font-family=\"Helvetica,sans-Serif\" font-size=\"14.00\">samples = 50</text>\n",
       "<text text-anchor=\"middle\" x=\"195.5\" y=\"-312.3\" font-family=\"Helvetica,sans-Serif\" font-size=\"14.00\">value = [50, 0, 0]</text>\n",
       "</g>\n",
       "<!-- 0&#45;&gt;1 -->\n",
       "<g id=\"edge1\" class=\"edge\">\n",
       "<title>0&#45;&gt;1</title>\n",
       "<path fill=\"none\" stroke=\"black\" d=\"M244.12,-400.88C236.21,-389.67 227.35,-377.13 219.4,-365.85\"/>\n",
       "<polygon fill=\"black\" stroke=\"black\" points=\"222.14,-363.67 213.51,-357.52 216.42,-367.71 222.14,-363.67\"/>\n",
       "<text text-anchor=\"middle\" x=\"209.27\" y=\"-378.46\" font-family=\"Helvetica,sans-Serif\" font-size=\"14.00\">True</text>\n",
       "</g>\n",
       "<!-- 2 -->\n",
       "<g id=\"node3\" class=\"node\">\n",
       "<title>2</title>\n",
       "<polygon fill=\"none\" stroke=\"black\" points=\"409,-365 272,-365 272,-297 409,-297 409,-365\"/>\n",
       "<text text-anchor=\"middle\" x=\"340.5\" y=\"-349.8\" font-family=\"Helvetica,sans-Serif\" font-size=\"14.00\">Petal.Width &lt;= 1.75</text>\n",
       "<text text-anchor=\"middle\" x=\"340.5\" y=\"-334.8\" font-family=\"Helvetica,sans-Serif\" font-size=\"14.00\">entropy = 1.0</text>\n",
       "<text text-anchor=\"middle\" x=\"340.5\" y=\"-319.8\" font-family=\"Helvetica,sans-Serif\" font-size=\"14.00\">samples = 100</text>\n",
       "<text text-anchor=\"middle\" x=\"340.5\" y=\"-304.8\" font-family=\"Helvetica,sans-Serif\" font-size=\"14.00\">value = [0, 50, 50]</text>\n",
       "</g>\n",
       "<!-- 0&#45;&gt;2 -->\n",
       "<g id=\"edge2\" class=\"edge\">\n",
       "<title>0&#45;&gt;2</title>\n",
       "<path fill=\"none\" stroke=\"black\" d=\"M291.2,-400.88C297.45,-392.15 304.27,-382.62 310.79,-373.51\"/>\n",
       "<polygon fill=\"black\" stroke=\"black\" points=\"313.69,-375.47 316.67,-365.3 308,-371.39 313.69,-375.47\"/>\n",
       "<text text-anchor=\"middle\" x=\"320.76\" y=\"-386.26\" font-family=\"Helvetica,sans-Serif\" font-size=\"14.00\">False</text>\n",
       "</g>\n",
       "<!-- 3 -->\n",
       "<g id=\"node4\" class=\"node\">\n",
       "<title>3</title>\n",
       "<polygon fill=\"none\" stroke=\"black\" points=\"332,-261 189,-261 189,-193 332,-193 332,-261\"/>\n",
       "<text text-anchor=\"middle\" x=\"260.5\" y=\"-245.8\" font-family=\"Helvetica,sans-Serif\" font-size=\"14.00\">Petal.Length &lt;= 4.95</text>\n",
       "<text text-anchor=\"middle\" x=\"260.5\" y=\"-230.8\" font-family=\"Helvetica,sans-Serif\" font-size=\"14.00\">entropy = 0.445</text>\n",
       "<text text-anchor=\"middle\" x=\"260.5\" y=\"-215.8\" font-family=\"Helvetica,sans-Serif\" font-size=\"14.00\">samples = 54</text>\n",
       "<text text-anchor=\"middle\" x=\"260.5\" y=\"-200.8\" font-family=\"Helvetica,sans-Serif\" font-size=\"14.00\">value = [0, 49, 5]</text>\n",
       "</g>\n",
       "<!-- 2&#45;&gt;3 -->\n",
       "<g id=\"edge3\" class=\"edge\">\n",
       "<title>2&#45;&gt;3</title>\n",
       "<path fill=\"none\" stroke=\"black\" d=\"M314.53,-296.88C307.61,-288.07 300.05,-278.43 292.84,-269.24\"/>\n",
       "<polygon fill=\"black\" stroke=\"black\" points=\"295.54,-267.01 286.62,-261.3 290.03,-271.33 295.54,-267.01\"/>\n",
       "</g>\n",
       "<!-- 8 -->\n",
       "<g id=\"node9\" class=\"node\">\n",
       "<title>8</title>\n",
       "<polygon fill=\"none\" stroke=\"black\" points=\"493,-261 350,-261 350,-193 493,-193 493,-261\"/>\n",
       "<text text-anchor=\"middle\" x=\"421.5\" y=\"-245.8\" font-family=\"Helvetica,sans-Serif\" font-size=\"14.00\">Petal.Length &lt;= 4.95</text>\n",
       "<text text-anchor=\"middle\" x=\"421.5\" y=\"-230.8\" font-family=\"Helvetica,sans-Serif\" font-size=\"14.00\">entropy = 0.151</text>\n",
       "<text text-anchor=\"middle\" x=\"421.5\" y=\"-215.8\" font-family=\"Helvetica,sans-Serif\" font-size=\"14.00\">samples = 46</text>\n",
       "<text text-anchor=\"middle\" x=\"421.5\" y=\"-200.8\" font-family=\"Helvetica,sans-Serif\" font-size=\"14.00\">value = [0, 1, 45]</text>\n",
       "</g>\n",
       "<!-- 2&#45;&gt;8 -->\n",
       "<g id=\"edge8\" class=\"edge\">\n",
       "<title>2&#45;&gt;8</title>\n",
       "<path fill=\"none\" stroke=\"black\" d=\"M366.8,-296.88C373.8,-288.07 381.45,-278.43 388.75,-269.24\"/>\n",
       "<polygon fill=\"black\" stroke=\"black\" points=\"391.58,-271.31 395.06,-261.3 386.1,-266.95 391.58,-271.31\"/>\n",
       "</g>\n",
       "<!-- 4 -->\n",
       "<g id=\"node5\" class=\"node\">\n",
       "<title>4</title>\n",
       "<polygon fill=\"none\" stroke=\"black\" points=\"194.5,-157 48.5,-157 48.5,-89 194.5,-89 194.5,-157\"/>\n",
       "<text text-anchor=\"middle\" x=\"121.5\" y=\"-141.8\" font-family=\"Helvetica,sans-Serif\" font-size=\"14.00\">Sepal.Length &lt;= 5.15</text>\n",
       "<text text-anchor=\"middle\" x=\"121.5\" y=\"-126.8\" font-family=\"Helvetica,sans-Serif\" font-size=\"14.00\">entropy = 0.146</text>\n",
       "<text text-anchor=\"middle\" x=\"121.5\" y=\"-111.8\" font-family=\"Helvetica,sans-Serif\" font-size=\"14.00\">samples = 48</text>\n",
       "<text text-anchor=\"middle\" x=\"121.5\" y=\"-96.8\" font-family=\"Helvetica,sans-Serif\" font-size=\"14.00\">value = [0, 47, 1]</text>\n",
       "</g>\n",
       "<!-- 3&#45;&gt;4 -->\n",
       "<g id=\"edge4\" class=\"edge\">\n",
       "<title>3&#45;&gt;4</title>\n",
       "<path fill=\"none\" stroke=\"black\" d=\"M215.37,-192.88C202.5,-183.44 188.36,-173.06 175.04,-163.29\"/>\n",
       "<polygon fill=\"black\" stroke=\"black\" points=\"177.01,-160.39 166.88,-157.3 172.87,-166.04 177.01,-160.39\"/>\n",
       "</g>\n",
       "<!-- 7 -->\n",
       "<g id=\"node8\" class=\"node\">\n",
       "<title>7</title>\n",
       "<polygon fill=\"none\" stroke=\"black\" points=\"324,-149.5 213,-149.5 213,-96.5 324,-96.5 324,-149.5\"/>\n",
       "<text text-anchor=\"middle\" x=\"268.5\" y=\"-134.3\" font-family=\"Helvetica,sans-Serif\" font-size=\"14.00\">entropy = 0.918</text>\n",
       "<text text-anchor=\"middle\" x=\"268.5\" y=\"-119.3\" font-family=\"Helvetica,sans-Serif\" font-size=\"14.00\">samples = 6</text>\n",
       "<text text-anchor=\"middle\" x=\"268.5\" y=\"-104.3\" font-family=\"Helvetica,sans-Serif\" font-size=\"14.00\">value = [0, 2, 4]</text>\n",
       "</g>\n",
       "<!-- 3&#45;&gt;7 -->\n",
       "<g id=\"edge7\" class=\"edge\">\n",
       "<title>3&#45;&gt;7</title>\n",
       "<path fill=\"none\" stroke=\"black\" d=\"M263.1,-192.88C263.93,-182.22 264.86,-170.35 265.71,-159.52\"/>\n",
       "<polygon fill=\"black\" stroke=\"black\" points=\"269.21,-159.76 266.5,-149.52 262.23,-159.22 269.21,-159.76\"/>\n",
       "</g>\n",
       "<!-- 5 -->\n",
       "<g id=\"node6\" class=\"node\">\n",
       "<title>5</title>\n",
       "<polygon fill=\"none\" stroke=\"black\" points=\"111,-53 0,-53 0,0 111,0 111,-53\"/>\n",
       "<text text-anchor=\"middle\" x=\"55.5\" y=\"-37.8\" font-family=\"Helvetica,sans-Serif\" font-size=\"14.00\">entropy = 0.722</text>\n",
       "<text text-anchor=\"middle\" x=\"55.5\" y=\"-22.8\" font-family=\"Helvetica,sans-Serif\" font-size=\"14.00\">samples = 5</text>\n",
       "<text text-anchor=\"middle\" x=\"55.5\" y=\"-7.8\" font-family=\"Helvetica,sans-Serif\" font-size=\"14.00\">value = [0, 4, 1]</text>\n",
       "</g>\n",
       "<!-- 4&#45;&gt;5 -->\n",
       "<g id=\"edge5\" class=\"edge\">\n",
       "<title>4&#45;&gt;5</title>\n",
       "<path fill=\"none\" stroke=\"black\" d=\"M98.42,-88.95C92.22,-80.07 85.51,-70.46 79.27,-61.54\"/>\n",
       "<polygon fill=\"black\" stroke=\"black\" points=\"82.07,-59.43 73.47,-53.24 76.33,-63.44 82.07,-59.43\"/>\n",
       "</g>\n",
       "<!-- 6 -->\n",
       "<g id=\"node7\" class=\"node\">\n",
       "<title>6</title>\n",
       "<polygon fill=\"none\" stroke=\"black\" points=\"246,-53 129,-53 129,0 246,0 246,-53\"/>\n",
       "<text text-anchor=\"middle\" x=\"187.5\" y=\"-37.8\" font-family=\"Helvetica,sans-Serif\" font-size=\"14.00\">entropy = 0.0</text>\n",
       "<text text-anchor=\"middle\" x=\"187.5\" y=\"-22.8\" font-family=\"Helvetica,sans-Serif\" font-size=\"14.00\">samples = 43</text>\n",
       "<text text-anchor=\"middle\" x=\"187.5\" y=\"-7.8\" font-family=\"Helvetica,sans-Serif\" font-size=\"14.00\">value = [0, 43, 0]</text>\n",
       "</g>\n",
       "<!-- 4&#45;&gt;6 -->\n",
       "<g id=\"edge6\" class=\"edge\">\n",
       "<title>4&#45;&gt;6</title>\n",
       "<path fill=\"none\" stroke=\"black\" d=\"M144.58,-88.95C150.78,-80.07 157.49,-70.46 163.73,-61.54\"/>\n",
       "<polygon fill=\"black\" stroke=\"black\" points=\"166.67,-63.44 169.53,-53.24 160.93,-59.43 166.67,-63.44\"/>\n",
       "</g>\n",
       "<!-- 9 -->\n",
       "<g id=\"node10\" class=\"node\">\n",
       "<title>9</title>\n",
       "<polygon fill=\"none\" stroke=\"black\" points=\"468.5,-149.5 358.5,-149.5 358.5,-96.5 468.5,-96.5 468.5,-149.5\"/>\n",
       "<text text-anchor=\"middle\" x=\"413.5\" y=\"-134.3\" font-family=\"Helvetica,sans-Serif\" font-size=\"14.00\">entropy = 0.65</text>\n",
       "<text text-anchor=\"middle\" x=\"413.5\" y=\"-119.3\" font-family=\"Helvetica,sans-Serif\" font-size=\"14.00\">samples = 6</text>\n",
       "<text text-anchor=\"middle\" x=\"413.5\" y=\"-104.3\" font-family=\"Helvetica,sans-Serif\" font-size=\"14.00\">value = [0, 1, 5]</text>\n",
       "</g>\n",
       "<!-- 8&#45;&gt;9 -->\n",
       "<g id=\"edge9\" class=\"edge\">\n",
       "<title>8&#45;&gt;9</title>\n",
       "<path fill=\"none\" stroke=\"black\" d=\"M418.9,-192.88C418.07,-182.22 417.14,-170.35 416.29,-159.52\"/>\n",
       "<polygon fill=\"black\" stroke=\"black\" points=\"419.77,-159.22 415.5,-149.52 412.79,-159.76 419.77,-159.22\"/>\n",
       "</g>\n",
       "<!-- 10 -->\n",
       "<g id=\"node11\" class=\"node\">\n",
       "<title>10</title>\n",
       "<polygon fill=\"none\" stroke=\"black\" points=\"604,-149.5 487,-149.5 487,-96.5 604,-96.5 604,-149.5\"/>\n",
       "<text text-anchor=\"middle\" x=\"545.5\" y=\"-134.3\" font-family=\"Helvetica,sans-Serif\" font-size=\"14.00\">entropy = 0.0</text>\n",
       "<text text-anchor=\"middle\" x=\"545.5\" y=\"-119.3\" font-family=\"Helvetica,sans-Serif\" font-size=\"14.00\">samples = 40</text>\n",
       "<text text-anchor=\"middle\" x=\"545.5\" y=\"-104.3\" font-family=\"Helvetica,sans-Serif\" font-size=\"14.00\">value = [0, 0, 40]</text>\n",
       "</g>\n",
       "<!-- 8&#45;&gt;10 -->\n",
       "<g id=\"edge10\" class=\"edge\">\n",
       "<title>8&#45;&gt;10</title>\n",
       "<path fill=\"none\" stroke=\"black\" d=\"M461.76,-192.88C476.2,-181.01 492.44,-167.65 506.75,-155.88\"/>\n",
       "<polygon fill=\"black\" stroke=\"black\" points=\"508.98,-158.58 514.48,-149.52 504.53,-153.17 508.98,-158.58\"/>\n",
       "</g>\n",
       "</g>\n",
       "</svg>\n"
      ],
      "text/plain": [
       "<graphviz.sources.Source at 0x24e4999e070>"
      ]
     },
     "execution_count": 104,
     "metadata": {},
     "output_type": "execute_result"
    }
   ],
   "source": [
    "with open(\"tree_graph.dot\", \"w\") as dotfile:\n",
    "    export_graphviz(tree, out_file=dotfile, feature_names=features_columns)\n",
    "    dotfile.close()\n",
    "    \n",
    "file = open(\"tree_graph.dot\", \"r\")\n",
    "text = file.read()\n",
    "Source(text)"
   ]
  },
  {
   "cell_type": "code",
   "execution_count": null,
   "id": "d9a3f4c7-ac3d-4592-8b32-5f71bd9a29b4",
   "metadata": {},
   "outputs": [],
   "source": []
  }
 ],
 "metadata": {
  "kernelspec": {
   "display_name": "Python 3 (ipykernel)",
   "language": "python",
   "name": "python3"
  },
  "language_info": {
   "codemirror_mode": {
    "name": "ipython",
    "version": 3
   },
   "file_extension": ".py",
   "mimetype": "text/x-python",
   "name": "python",
   "nbconvert_exporter": "python",
   "pygments_lexer": "ipython3",
   "version": "3.9.7"
  }
 },
 "nbformat": 4,
 "nbformat_minor": 5
}
